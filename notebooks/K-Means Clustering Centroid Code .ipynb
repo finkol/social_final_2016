{
 "cells": [
  {
   "cell_type": "markdown",
   "metadata": {},
   "source": [
    "## imports"
   ]
  },
  {
   "cell_type": "code",
   "execution_count": 1,
   "metadata": {
    "collapsed": true
   },
   "outputs": [],
   "source": [
    "from csv import reader\n",
    "import numpy as np\n",
    "from sklearn.cluster import KMeans\n",
    "from itertools import izip\n",
    "import csv"
   ]
  },
  {
   "cell_type": "markdown",
   "metadata": {},
   "source": [
    "## Read from CSV"
   ]
  },
  {
   "cell_type": "code",
   "execution_count": 2,
   "metadata": {
    "collapsed": true
   },
   "outputs": [],
   "source": [
    "fileValues = []"
   ]
  },
  {
   "cell_type": "code",
   "execution_count": 3,
   "metadata": {
    "collapsed": true
   },
   "outputs": [],
   "source": [
    "def readInValuesFromCSV():\n",
    "    # open csv file and append to a list of dictionaries\n",
    "    infile = open(\"NYPD_7_Major_Felony_Incidents.csv\", 'r')\n",
    "    first = True\n",
    "    for line in reader( infile ):\n",
    "        if not first:\n",
    "            OBJECTID,Identifier,Occurrence_Date,Day_of_Week,Occurrence_Month,Occurrence_Day,Occurrence_Year,Occurrence_Hour,CompStat_Month,CompStat_Day,CompStat_Year,Offense,Offense_Classification,Sector,Precinct,Borough,Jurisdiction,XCoordinate,YCoordinate,Location_1 = line\n",
    "            \n",
    "            values = {'OBJECTID' : OBJECTID,'Identifier':Identifier,'Occurrence Date':Occurrence_Date,'Day of Week':Day_of_Week,'Occurrence Month':Occurrence_Month,'Occurrence Day':Occurrence_Day,'Occurrence Year':Occurrence_Year,'Occurrence Hour':Occurrence_Hour,'CompStat Month':CompStat_Month,'CompStat Day':CompStat_Day,'CompStat Year':CompStat_Year,'Offense':Offense,'Offense Classification':Offense_Classification,'Sector':Sector,'Precinct':Precinct,'Borough':Borough,'Jurisdiction':Jurisdiction,'XCoordinate':XCoordinate,'YCoordinate':YCoordinate,'Location 1':Location_1 }\n",
    "            \n",
    "            fileValues.append(values)\n",
    "            \n",
    "        first = False"
   ]
  },
  {
   "cell_type": "code",
   "execution_count": 4,
   "metadata": {
    "collapsed": false
   },
   "outputs": [],
   "source": [
    "readInValuesFromCSV()"
   ]
  },
  {
   "cell_type": "markdown",
   "metadata": {},
   "source": [
    "## Clean the data, cast string coord values to floats"
   ]
  },
  {
   "cell_type": "code",
   "execution_count": 6,
   "metadata": {
    "collapsed": true
   },
   "outputs": [],
   "source": [
    "def coordToFloats(coord):\n",
    "    tmp = coord.replace(\"(\", \"\")\n",
    "    tmp = tmp.replace(\",\",\"\")\n",
    "    tmp = tmp.replace(\")\",\"\").split()\n",
    "    tmp[0] = float(tmp[0])\n",
    "    tmp[1] = float(tmp[1])\n",
    "    return tmp\n",
    "    "
   ]
  },
  {
   "cell_type": "markdown",
   "metadata": {},
   "source": [
    "## Create CoordinateLists for every felony"
   ]
  },
  {
   "cell_type": "code",
   "execution_count": 7,
   "metadata": {
    "collapsed": true
   },
   "outputs": [],
   "source": [
    "dataFrom2015 = []\n",
    "\n",
    "burglaryCoord = []\n",
    "felonyAssaultCoord = []\n",
    "grandLarcenyCoord = []\n",
    "grandLarcenyVehicleCoord = []\n",
    "murderCoord = []\n",
    "rapeCoord = []\n",
    "robberyCoord = []\n",
    "for crime in fileValues:\n",
    "    if crime['Occurrence Year'] == '2015':\n",
    "        dataFrom2015.append(crime)\n",
    "        if crime['Offense'] == \"BURGLARY\":\n",
    "            burglaryCoord.append(coordToFloats(crime['Location 1']))\n",
    "        if crime['Offense'] == \"FELONY ASSAULT\":\n",
    "            felonyAssaultCoord.append(coordToFloats(crime['Location 1']))\n",
    "        if crime['Offense'] == \"GRAND LARCENY\":\n",
    "            grandLarcenyCoord.append(coordToFloats(crime['Location 1']))\n",
    "        if crime['Offense'] == \"GRAND LARCENY OF MOTOR VEHICLE\":\n",
    "            grandLarcenyVehicleCoord.append(coordToFloats(crime['Location 1']))\n",
    "        if crime['Offense'] == \"MURDER & NON-NEGL. MANSLAUGHTE\":\n",
    "            murderCoord.append(coordToFloats(crime['Location 1']))\n",
    "        if crime['Offense'] == \"RAPE\":\n",
    "            rapeCoord.append(coordToFloats(crime['Location 1']))\n",
    "        if crime['Offense'] == \"ROBBERY\":\n",
    "            robberyCoord.append(coordToFloats(crime['Location 1']))"
   ]
  },
  {
   "cell_type": "markdown",
   "metadata": {},
   "source": [
    "## Create a list of the offenses and count the occurrences"
   ]
  },
  {
   "cell_type": "code",
   "execution_count": 82,
   "metadata": {
    "collapsed": true
   },
   "outputs": [],
   "source": [
    "offenseTypes = []\n",
    "for crime in dataFrom2015:\n",
    "    offenseTypes.append(crime['Offense'])\n",
    "\n",
    "from collections import Counter\n",
    "counterList = Counter(offenseTypes)"
   ]
  },
  {
   "cell_type": "code",
   "execution_count": 84,
   "metadata": {
    "collapsed": false
   },
   "outputs": [
    {
     "data": {
      "text/plain": [
       "Counter({'BURGLARY': 14967,\n",
       "         'FELONY ASSAULT': 20189,\n",
       "         'GRAND LARCENY': 41873,\n",
       "         'GRAND LARCENY OF MOTOR VEHICLE': 7250,\n",
       "         'MURDER & NON-NEGL. MANSLAUGHTE': 336,\n",
       "         'RAPE': 1156,\n",
       "         'ROBBERY': 16886})"
      ]
     },
     "execution_count": 84,
     "metadata": {},
     "output_type": "execute_result"
    }
   ],
   "source": [
    "counterList"
   ]
  },
  {
   "cell_type": "markdown",
   "metadata": {},
   "source": [
    "## Method to export the centroid to a csv for d3.js"
   ]
  },
  {
   "cell_type": "code",
   "execution_count": 79,
   "metadata": {
    "collapsed": true
   },
   "outputs": [],
   "source": [
    "def centroid(filename, coord):\n",
    "    with open(filename,'w') as csvFile:\n",
    "        fieldnames = ['Cluster','lat','lon']\n",
    "        writer = csv.DictWriter(csvFile,fieldnames=fieldnames)\n",
    "        \n",
    "        writer.writeheader()\n",
    "        for i, c in enumerate(coord.cluster_centers_):\n",
    "            writer.writerow({'Cluster':i,'lat':c[0],'lon':c[1]})"
   ]
  },
  {
   "cell_type": "markdown",
   "metadata": {},
   "source": [
    "## Method to Calculate the K-means for various cluster sizes "
   ]
  },
  {
   "cell_type": "code",
   "execution_count": 85,
   "metadata": {
    "collapsed": false
   },
   "outputs": [],
   "source": [
    "# calculate k-means for different cluster value\n",
    "def kMeansCalculation(offenseCoord,offenseName):\n",
    "\n",
    "    X = np.asarray(offenseCoord)\n",
    "    km2 = KMeans(n_clusters=2,init='random',n_init=10,max_iter=10,tol=1e-04,random_state=0)\n",
    "    y_km2 = km2.fit_predict(X)\n",
    "    score_km2 = km2.score(X)\n",
    "    print offenseName + \" km2_Score : \" + str(score_km2)\n",
    "    \n",
    "    km3 = KMeans(n_clusters=3,init='random',n_init=10,max_iter=10,tol=1e-04,random_state=0)\n",
    "    y_km3 = km3.fit_predict(X)\n",
    "    score_km2 = km3.score(X)\n",
    "    print offenseName + \" km3_Score : \" + str(score_km2)\n",
    "\n",
    "\n",
    "    km4 = KMeans(n_clusters=4,init='random',n_init=10,max_iter=10,tol=1e-04,random_state=0)\n",
    "    y_km4 = km4.fit_predict(X)\n",
    "    score_km2 = km4.score(X)\n",
    "    print offenseName + \" km4_Score : \" + str(score_km2)\n",
    "\n",
    "    km5 = KMeans(n_clusters=5,init='random',n_init=10,max_iter=10,tol=1e-04,random_state=0)\n",
    "    y_km5 = km5.fit_predict(X)\n",
    "    score_km2 = km5.score(X)\n",
    "    print offenseName + \" km5_Score : \" + str(score_km2)\n",
    "\n",
    "    km6 = KMeans(n_clusters=6,init='random',n_init=10,max_iter=10,tol=1e-04,random_state=0)\n",
    "    y_km6 = km6.fit_predict(X)\n",
    "    score_km2 = km6.score(X)\n",
    "    print offenseName + \" km6_Score : \" + str(score_km2)\n",
    "\n",
    "    y2=np.array(y_km2).tolist()\n",
    "    y3=np.array(y_km3).tolist()\n",
    "    y4=np.array(y_km4).tolist()\n",
    "    y5=np.array(y_km5).tolist()\n",
    "    y6=np.array(y_km6).tolist()\n",
    "    \n",
    "    \n",
    "    coordX = []\n",
    "    coordY = []\n",
    "    \n",
    "    for coord in offenseCoord:\n",
    "        coordX.append(coord[0])\n",
    "        coordY.append(coord[1])\n",
    "    \n",
    "    \n",
    "    with open( offenseName + '_' +'Kmeans_2.csv', 'wb') as f:\n",
    "        writer = csv.writer(f)\n",
    "        writer.writerow(['Cluster','lat','lon'])\n",
    "        writer.writerows(izip(y2,coordX,coordY))\n",
    "    \n",
    "    with open( offenseName + '_' +'Kmeans_3.csv', 'wb') as f:\n",
    "        writer = csv.writer(f)\n",
    "        writer.writerow(['Cluster','lat','lon'])\n",
    "        writer.writerows(izip(y3,coordX,coordY))\n",
    "\n",
    "    with open( offenseName + '_' +'Kmeans_4.csv', 'wb') as f:\n",
    "        writer = csv.writer(f)\n",
    "        writer.writerow(['Cluster','lat','lon'])\n",
    "        writer.writerows(izip(y4,coordX,coordY))\n",
    "\n",
    "    with open( offenseName + '_' +'Kmeans_5.csv', 'wb') as f:\n",
    "        writer = csv.writer(f)\n",
    "        writer.writerow(['Cluster','lat','lon'])\n",
    "        writer.writerows(izip(y5,coordX,coordY))\n",
    "\n",
    "    with open( offenseName + '_' +'Kmeans_6.csv', 'wb') as f:\n",
    "        writer = csv.writer(f)\n",
    "        writer.writerow(['Cluster','lat','lon'])\n",
    "        writer.writerows(izip(y6,coordX,coordY))\n",
    "        \n",
    "        \n",
    "    centroid(offenseName + \"_\" + \"CentroidKMeans2.csv\",km2)\n",
    "    centroid(offenseName + \"_\" + \"CentroidKMeans3.csv\",km3)\n",
    "    centroid(offenseName + \"_\" + \"CentroidKMeans4.csv\",km4)\n",
    "    centroid(offenseName + \"_\" + \"CentroidKMeans5.csv\",km5)\n",
    "    centroid(offenseName + \"_\" + \"CentroidKMeans6.csv\",km6)"
   ]
  },
  {
   "cell_type": "markdown",
   "metadata": {},
   "source": [
    "## Run every felonyCoordinates to above method and print out the K-Means Score as well"
   ]
  },
  {
   "cell_type": "code",
   "execution_count": 86,
   "metadata": {
    "collapsed": false
   },
   "outputs": [
    {
     "name": "stdout",
     "output_type": "stream",
     "text": [
      "murder km2_Score : -2.1381153651\n",
      "murder km3_Score : -1.170375265\n",
      "murder km4_Score : -0.817616076436\n",
      "murder km5_Score : -0.61639381889\n",
      "murder km6_Score : -0.509958447918\n"
     ]
    }
   ],
   "source": [
    "kMeansCalculation(murderCoord,\"murder\")"
   ]
  },
  {
   "cell_type": "code",
   "execution_count": 63,
   "metadata": {
    "collapsed": false
   },
   "outputs": [
    {
     "name": "stdout",
     "output_type": "stream",
     "text": [
      "burglary km2_Score : -110.245350472\n",
      "burglary km3_Score : -69.3748448174\n",
      "burglary km4_Score : -49.3965977285\n",
      "burglary km5_Score : -37.0342490919\n",
      "burglary km6_Score : -29.5177071585\n"
     ]
    }
   ],
   "source": [
    "kMeansCalculation(burglaryCoord,\"burglary\")"
   ]
  },
  {
   "cell_type": "code",
   "execution_count": 64,
   "metadata": {
    "collapsed": false
   },
   "outputs": [
    {
     "name": "stdout",
     "output_type": "stream",
     "text": [
      "rape km2_Score : -7.31571827893\n",
      "rape km3_Score : -4.43090079423\n",
      "rape km4_Score : -3.43850211165\n",
      "rape km5_Score : -2.78440528421\n",
      "rape km6_Score : -2.23403313459\n"
     ]
    }
   ],
   "source": [
    "kMeansCalculation(rapeCoord,\"rape\")"
   ]
  },
  {
   "cell_type": "code",
   "execution_count": 65,
   "metadata": {
    "collapsed": false
   },
   "outputs": [
    {
     "name": "stdout",
     "output_type": "stream",
     "text": [
      "robbery km2_Score : -106.047074855\n",
      "robbery km3_Score : -61.9933198455\n",
      "robbery km4_Score : -47.2522935207\n",
      "robbery km5_Score : -36.6795792843\n",
      "robbery km6_Score : -30.1715074095\n"
     ]
    }
   ],
   "source": [
    "kMeansCalculation(robberyCoord,\"robbery\")"
   ]
  },
  {
   "cell_type": "code",
   "execution_count": 66,
   "metadata": {
    "collapsed": false
   },
   "outputs": [
    {
     "name": "stdout",
     "output_type": "stream",
     "text": [
      "grandLarceny km2_Score : -279.367623533\n",
      "grandLarceny km3_Score : -188.312974717\n",
      "grandLarceny km4_Score : -126.827273745\n",
      "grandLarceny km5_Score : -90.7827417046\n",
      "grandLarceny km6_Score : -75.9956931312\n"
     ]
    }
   ],
   "source": [
    "kMeansCalculation(grandLarcenyCoord,\"grandLarceny\")"
   ]
  },
  {
   "cell_type": "code",
   "execution_count": 67,
   "metadata": {
    "collapsed": false
   },
   "outputs": [
    {
     "name": "stdout",
     "output_type": "stream",
     "text": [
      "grandLarcenyVehicle km2_Score : -52.6655508686\n",
      "grandLarcenyVehicle km3_Score : -30.1437282039\n",
      "grandLarcenyVehicle km4_Score : -22.2210826223\n",
      "grandLarcenyVehicle km5_Score : -17.4556373196\n",
      "grandLarcenyVehicle km6_Score : -14.2989409671\n"
     ]
    }
   ],
   "source": [
    "kMeansCalculation(grandLarcenyVehicleCoord,\"grandLarcenyVehicle\")"
   ]
  },
  {
   "cell_type": "code",
   "execution_count": 68,
   "metadata": {
    "collapsed": false
   },
   "outputs": [
    {
     "name": "stdout",
     "output_type": "stream",
     "text": [
      "felonyAssault km2_Score : -136.909306375\n",
      "felonyAssault km3_Score : -80.1702665396\n",
      "felonyAssault km4_Score : -58.9250215792\n",
      "felonyAssault km5_Score : -47.1841105485\n",
      "felonyAssault km6_Score : -39.6861137547\n"
     ]
    }
   ],
   "source": [
    "kMeansCalculation(felonyAssaultCoord,\"felonyAssault\")"
   ]
  }
 ],
 "metadata": {
  "kernelspec": {
   "display_name": "Python 2",
   "language": "python",
   "name": "python2"
  },
  "language_info": {
   "codemirror_mode": {
    "name": "ipython",
    "version": 2
   },
   "file_extension": ".py",
   "mimetype": "text/x-python",
   "name": "python",
   "nbconvert_exporter": "python",
   "pygments_lexer": "ipython2",
   "version": "2.7.10"
  }
 },
 "nbformat": 4,
 "nbformat_minor": 0
}
