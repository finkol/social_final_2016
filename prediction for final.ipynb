{
 "cells": [
  {
   "cell_type": "code",
   "execution_count": 1,
   "metadata": {
    "collapsed": true
   },
   "outputs": [],
   "source": [
    "from csv import reader\n",
    "from sklearn.tree import DecisionTreeClassifier\n",
    "from sklearn.cross_validation import train_test_split\n",
    "from sklearn import preprocessing\n",
    "from sklearn import tree\n",
    "from sklearn.externals.six import StringIO\n",
    "import calendar"
   ]
  },
  {
   "cell_type": "code",
   "execution_count": 2,
   "metadata": {
    "collapsed": true
   },
   "outputs": [],
   "source": [
    "fileValues = []"
   ]
  },
  {
   "cell_type": "code",
   "execution_count": 3,
   "metadata": {
    "collapsed": false
   },
   "outputs": [],
   "source": [
    "def readInValuesFromCSV():\n",
    "    # open csv file and append to a list of dictionaries\n",
    "    infile = open(\"NYPD_7_Major_Felony_Incidents.csv\", 'r')\n",
    "    first = True\n",
    "    for line in reader( infile ):\n",
    "#         print line\n",
    "        if not first:\n",
    "            OBJECTID,Identifier,Occurrence_Date,Day_of_Week,Occurrence_Month,Occurrence_Day,Occurrence_Year,Occurrence_Hour,CompStat_Month,CompStat_Day,CompStat_Year,Offense,Offense_Classification,Sector,Precinct,Borough,Jurisdiction,XCoordinate,YCoordinate,Location_1 = line\n",
    "            \n",
    "            values = {'OBJECTID' : OBJECTID,'Identifier':Identifier,'Occurrence Date':Occurrence_Date,'Day of Week':Day_of_Week,'Occurrence Month':Occurrence_Month,'Occurrence Day':Occurrence_Day,'Occurrence Year':Occurrence_Year,'Occurrence Hour':Occurrence_Hour,'CompStat Month':CompStat_Month,'CompStat Day':CompStat_Day,'CompStat Year':CompStat_Year,'Offense':Offense,'Offense Classification':Offense_Classification,'Sector':Sector,'Precinct':Precinct,'Borough':Borough,'Jurisdiction':Jurisdiction,'XCoordinate':XCoordinate,'YCoordinate':YCoordinate,'Location 1':Location_1 }\n",
    "            \n",
    "            fileValues.append(values)\n",
    "            \n",
    "        first = False"
   ]
  },
  {
   "cell_type": "code",
   "execution_count": 4,
   "metadata": {
    "collapsed": true
   },
   "outputs": [],
   "source": [
    "readInValuesFromCSV()"
   ]
  },
  {
   "cell_type": "code",
   "execution_count": 6,
   "metadata": {
    "collapsed": false
   },
   "outputs": [
    {
     "data": {
      "text/plain": [
       "{'Borough': 'BROOKLYN',\n",
       " 'CompStat Day': '31',\n",
       " 'CompStat Month': '10',\n",
       " 'CompStat Year': '2008',\n",
       " 'Day of Week': 'Friday',\n",
       " 'Identifier': '716dbc6f',\n",
       " 'Jurisdiction': 'N.Y. POLICE DEPT',\n",
       " 'Location 1': '(40.688874254, -73.9918594329999)',\n",
       " 'OBJECTID': '3',\n",
       " 'Occurrence Date': '10/30/1970 03:30:00 PM',\n",
       " 'Occurrence Day': '30',\n",
       " 'Occurrence Hour': '15',\n",
       " 'Occurrence Month': 'Oct',\n",
       " 'Occurrence Year': '1970',\n",
       " 'Offense': 'BURGLARY',\n",
       " 'Offense Classification': 'FELONY',\n",
       " 'Precinct': '84',\n",
       " 'Sector': 'H',\n",
       " 'XCoordinate': '986508',\n",
       " 'YCoordinate': '190249'}"
      ]
     },
     "execution_count": 6,
     "metadata": {},
     "output_type": "execute_result"
    }
   ],
   "source": [
    "fileValues[2]"
   ]
  },
  {
   "cell_type": "code",
   "execution_count": 7,
   "metadata": {
    "collapsed": true
   },
   "outputs": [],
   "source": [
    "precinctList = []\n",
    "for precinct in fileValues:\n",
    "    precinctList.append(precinct['Precinct'])"
   ]
  },
  {
   "cell_type": "code",
   "execution_count": 8,
   "metadata": {
    "collapsed": false
   },
   "outputs": [
    {
     "data": {
      "text/plain": [
       "{'1',\n",
       " '10',\n",
       " '100',\n",
       " '101',\n",
       " '102',\n",
       " '103',\n",
       " '104',\n",
       " '105',\n",
       " '106',\n",
       " '107',\n",
       " '108',\n",
       " '109',\n",
       " '110',\n",
       " '111',\n",
       " '112',\n",
       " '113',\n",
       " '114',\n",
       " '115',\n",
       " '120',\n",
       " '121',\n",
       " '122',\n",
       " '123',\n",
       " '13',\n",
       " '14',\n",
       " '17',\n",
       " '18',\n",
       " '19',\n",
       " '20',\n",
       " '22',\n",
       " '23',\n",
       " '24',\n",
       " '25',\n",
       " '26',\n",
       " '28',\n",
       " '30',\n",
       " '32',\n",
       " '33',\n",
       " '34',\n",
       " '40',\n",
       " '41',\n",
       " '42',\n",
       " '43',\n",
       " '44',\n",
       " '45',\n",
       " '46',\n",
       " '47',\n",
       " '48',\n",
       " '49',\n",
       " '5',\n",
       " '50',\n",
       " '52',\n",
       " '6',\n",
       " '60',\n",
       " '61',\n",
       " '62',\n",
       " '63',\n",
       " '66',\n",
       " '67',\n",
       " '68',\n",
       " '69',\n",
       " '7',\n",
       " '70',\n",
       " '71',\n",
       " '72',\n",
       " '73',\n",
       " '75',\n",
       " '76',\n",
       " '77',\n",
       " '78',\n",
       " '79',\n",
       " '81',\n",
       " '83',\n",
       " '84',\n",
       " '88',\n",
       " '9',\n",
       " '90',\n",
       " '94',\n",
       " 'NA'}"
      ]
     },
     "execution_count": 8,
     "metadata": {},
     "output_type": "execute_result"
    }
   ],
   "source": [
    "set(precinctList)"
   ]
  },
  {
   "cell_type": "code",
   "execution_count": null,
   "metadata": {
    "collapsed": true
   },
   "outputs": [],
   "source": []
  },
  {
   "cell_type": "code",
   "execution_count": 9,
   "metadata": {
    "collapsed": false
   },
   "outputs": [],
   "source": [
    "# make sure that there are no empty values\n",
    "crimeData = []\n",
    "for crime in fileValues:\n",
    "    if crime['Precinct'] != \"\" and crime['Offense'] != \"\" and crime['Day of Week'] != \"\" and crime['Occurrence Hour'] != \"\" and crime['Jurisdiction'] == \"N.Y. POLICE DEPT\":\n",
    "        crimeData.append(crime)"
   ]
  },
  {
   "cell_type": "code",
   "execution_count": 10,
   "metadata": {
    "collapsed": true
   },
   "outputs": [],
   "source": [
    "# encode precints and offense into floats\n",
    "offenseEncoder = preprocessing.LabelEncoder()\n",
    "precinctEncoder = preprocessing.LabelEncoder()"
   ]
  },
  {
   "cell_type": "code",
   "execution_count": 11,
   "metadata": {
    "collapsed": false
   },
   "outputs": [
    {
     "data": {
      "text/plain": [
       "LabelEncoder()"
      ]
     },
     "execution_count": 11,
     "metadata": {},
     "output_type": "execute_result"
    }
   ],
   "source": [
    "offenseEncoder.fit([crime['Offense'] for crime in crimeData])\n",
    "precinctEncoder.fit([crime['Precinct'] for crime in crimeData])"
   ]
  },
  {
   "cell_type": "code",
   "execution_count": 30,
   "metadata": {
    "collapsed": false
   },
   "outputs": [
    {
     "data": {
      "text/plain": [
       "['precinctEncoder.pkl']"
      ]
     },
     "execution_count": 30,
     "metadata": {},
     "output_type": "execute_result"
    }
   ],
   "source": [
    "joblib.dump(offenseEncoder, 'offenseEncoder.pkl', compress=9)\n",
    "joblib.dump(precinctEncoder, 'precinctEncoder.pkl', compress=9)"
   ]
  },
  {
   "cell_type": "code",
   "execution_count": 12,
   "metadata": {
    "collapsed": false
   },
   "outputs": [],
   "source": [
    "#split data into training data and test data\n",
    "X_train, X_test, y_train, y_test = train_test_split(precinctEncoder.transform([x['Precinct'] for x in crimeData]),offenseEncoder.transform([x['Offense'] for x in crimeData]),test_size=0.10)"
   ]
  },
  {
   "cell_type": "code",
   "execution_count": 13,
   "metadata": {
    "collapsed": false
   },
   "outputs": [
    {
     "data": {
      "text/plain": [
       "DecisionTreeClassifier(class_weight=None, criterion='gini', max_depth=None,\n",
       "            max_features=None, max_leaf_nodes=None, min_samples_leaf=1,\n",
       "            min_samples_split=2, min_weight_fraction_leaf=0.0,\n",
       "            random_state=0, splitter='best')"
      ]
     },
     "execution_count": 13,
     "metadata": {},
     "output_type": "execute_result"
    }
   ],
   "source": [
    "# init the decisionTreeClassifier and fit the training data\n",
    "dt = DecisionTreeClassifier(random_state=0)\n",
    "dt.fit(X_train.reshape(-1,1),y_train.reshape(-1,1))"
   ]
  },
  {
   "cell_type": "markdown",
   "metadata": {},
   "source": [
    "## Prediction Score"
   ]
  },
  {
   "cell_type": "code",
   "execution_count": 21,
   "metadata": {
    "collapsed": false
   },
   "outputs": [
    {
     "data": {
      "text/plain": [
       "0.3897405830393787"
      ]
     },
     "execution_count": 21,
     "metadata": {},
     "output_type": "execute_result"
    }
   ],
   "source": [
    "dt.score(X_test.reshape(-1,1),y_test.reshape(-1,1))"
   ]
  },
  {
   "cell_type": "code",
   "execution_count": 23,
   "metadata": {
    "collapsed": false
   },
   "outputs": [
    {
     "data": {
      "text/plain": [
       "['dt_model.pkl']"
      ]
     },
     "execution_count": 23,
     "metadata": {},
     "output_type": "execute_result"
    }
   ],
   "source": [
    "from sklearn.externals import joblib\n",
    "joblib.dump(dt, 'dt_model.pkl', compress=9)"
   ]
  },
  {
   "cell_type": "code",
   "execution_count": 29,
   "metadata": {
    "collapsed": false
   },
   "outputs": [],
   "source": []
  },
  {
   "cell_type": "markdown",
   "metadata": {},
   "source": [
    "## Predict a crime"
   ]
  },
  {
   "cell_type": "code",
   "execution_count": 15,
   "metadata": {
    "collapsed": false
   },
   "outputs": [
    {
     "name": "stdout",
     "output_type": "stream",
     "text": [
      "['GRAND LARCENY']\n"
     ]
    }
   ],
   "source": [
    "print offenseEncoder.inverse_transform(\n",
    "    dt.predict(\n",
    "        [precinctEncoder.transform(\n",
    "                ['94'])]))"
   ]
  },
  {
   "cell_type": "code",
   "execution_count": 16,
   "metadata": {
    "collapsed": true
   },
   "outputs": [],
   "source": [
    "def predictCrimeInPrecinct(precinctNumber):\n",
    "    print offenseEncoder.inverse_transform(\n",
    "    dt.predict(\n",
    "        [precinctEncoder.transform(\n",
    "                [precinctNumber])]))"
   ]
  },
  {
   "cell_type": "code",
   "execution_count": 17,
   "metadata": {
    "collapsed": false
   },
   "outputs": [
    {
     "name": "stdout",
     "output_type": "stream",
     "text": [
      "['GRAND LARCENY']\n"
     ]
    }
   ],
   "source": [
    "predictCrimeInPrecinct(84)"
   ]
  },
  {
   "cell_type": "code",
   "execution_count": 18,
   "metadata": {
    "collapsed": true
   },
   "outputs": [],
   "source": [
    "uniquePrecincts = set(precinctList)"
   ]
  },
  {
   "cell_type": "code",
   "execution_count": 32,
   "metadata": {
    "collapsed": false
   },
   "outputs": [
    {
     "data": {
      "text/plain": [
       "78"
      ]
     },
     "execution_count": 32,
     "metadata": {},
     "output_type": "execute_result"
    }
   ],
   "source": [
    "len(uniquePrecincts)"
   ]
  },
  {
   "cell_type": "code",
   "execution_count": 19,
   "metadata": {
    "collapsed": false
   },
   "outputs": [
    {
     "name": "stdout",
     "output_type": "stream",
     "text": [
      "77\n",
      "['GRAND LARCENY']\n",
      "66\n",
      "['GRAND LARCENY']\n",
      "42\n",
      "['ROBBERY']\n",
      "62\n",
      "['GRAND LARCENY']\n",
      "112\n",
      "['GRAND LARCENY']\n",
      "22\n",
      "['GRAND LARCENY']\n",
      "50\n",
      "['GRAND LARCENY']\n",
      "115\n",
      "['GRAND LARCENY']\n",
      "61\n",
      "['GRAND LARCENY']\n",
      "88\n",
      "['GRAND LARCENY']\n",
      "63\n",
      "['GRAND LARCENY']\n",
      "111\n",
      "['GRAND LARCENY']\n",
      "110\n",
      "['GRAND LARCENY']\n",
      "113\n",
      "['GRAND LARCENY']\n",
      "67\n",
      "['GRAND LARCENY']\n",
      "68\n",
      "['GRAND LARCENY']\n",
      "83\n",
      "['BURGLARY']\n",
      "52\n",
      "['GRAND LARCENY']\n",
      "84\n",
      "['GRAND LARCENY']\n",
      "23\n",
      "['GRAND LARCENY']\n",
      "24\n",
      "['GRAND LARCENY']\n",
      "25\n",
      "['GRAND LARCENY']\n",
      "26\n",
      "['GRAND LARCENY']\n",
      "81\n",
      "['GRAND LARCENY']\n",
      "20\n",
      "['GRAND LARCENY']\n",
      "48\n",
      "['ROBBERY']\n",
      "49\n",
      "['GRAND LARCENY']\n",
      "46\n",
      "['FELONY ASSAULT']\n",
      "47\n",
      "['FELONY ASSAULT']\n",
      "44\n",
      "['FELONY ASSAULT']\n",
      "45\n",
      "['GRAND LARCENY']\n",
      "28\n",
      "['GRAND LARCENY']\n",
      "43\n",
      "['GRAND LARCENY']\n",
      "40\n",
      "['GRAND LARCENY']\n",
      "41\n",
      "['FELONY ASSAULT']\n",
      "1\n",
      "['GRAND LARCENY']\n",
      "5\n",
      "['GRAND LARCENY']\n",
      "79\n",
      "['GRAND LARCENY']\n",
      "7\n",
      "['GRAND LARCENY']\n",
      "6\n",
      "['GRAND LARCENY']\n",
      "9\n",
      "['GRAND LARCENY']\n",
      "78\n",
      "['GRAND LARCENY']\n",
      "122\n",
      "['GRAND LARCENY']\n",
      "10\n",
      "['GRAND LARCENY']\n",
      "NA\n",
      "['MURDER & NON-NEGL. MANSLAUGHTE']\n",
      "120\n",
      "['GRAND LARCENY']\n",
      "76\n",
      "['GRAND LARCENY']\n",
      "108\n",
      "['GRAND LARCENY']\n",
      "109\n",
      "['GRAND LARCENY']\n",
      "73\n",
      "['FELONY ASSAULT']\n",
      "72\n",
      "['GRAND LARCENY']\n",
      "71\n",
      "['GRAND LARCENY']\n",
      "70\n",
      "['GRAND LARCENY']\n",
      "102\n",
      "['GRAND LARCENY']\n",
      "103\n",
      "['GRAND LARCENY']\n",
      "100\n",
      "['GRAND LARCENY']\n",
      "101\n",
      "['FELONY ASSAULT']\n",
      "69\n",
      "['GRAND LARCENY']\n",
      "94\n",
      "['GRAND LARCENY']\n",
      "104\n",
      "['GRAND LARCENY']\n",
      "105\n",
      "['GRAND LARCENY']\n",
      "60\n",
      "['GRAND LARCENY']\n",
      "13\n",
      "['GRAND LARCENY']\n",
      "14\n",
      "['GRAND LARCENY']\n",
      "17\n",
      "['GRAND LARCENY']\n",
      "114\n",
      "['GRAND LARCENY']\n",
      "19\n",
      "['GRAND LARCENY']\n",
      "18\n",
      "['GRAND LARCENY']\n",
      "30\n",
      "['ROBBERY']\n",
      "75\n",
      "['GRAND LARCENY']\n",
      "34\n",
      "['GRAND LARCENY']\n",
      "33\n",
      "['GRAND LARCENY']\n",
      "107\n",
      "['GRAND LARCENY']\n",
      "123\n",
      "['GRAND LARCENY']\n",
      "106\n",
      "['GRAND LARCENY']\n",
      "32\n",
      "['GRAND LARCENY']\n",
      "121\n",
      "['GRAND LARCENY']\n",
      "90\n",
      "['GRAND LARCENY']\n"
     ]
    }
   ],
   "source": [
    "for precinct in uniquePrecincts:\n",
    "    print(precinct)\n",
    "    predictCrimeInPrecinct(precinct)"
   ]
  },
  {
   "cell_type": "code",
   "execution_count": 20,
   "metadata": {
    "collapsed": false
   },
   "outputs": [
    {
     "ename": "IndentationError",
     "evalue": "expected an indented block (<ipython-input-20-58d7d78ad675>, line 2)",
     "output_type": "error",
     "traceback": [
      "\u001b[1;36m  File \u001b[1;32m\"<ipython-input-20-58d7d78ad675>\"\u001b[1;36m, line \u001b[1;32m2\u001b[0m\n\u001b[1;33m    for crime in fileValues:\u001b[0m\n\u001b[1;37m                            ^\u001b[0m\n\u001b[1;31mIndentationError\u001b[0m\u001b[1;31m:\u001b[0m expected an indented block\n"
     ]
    }
   ],
   "source": [
    "crimeOffenses = []\n",
    "for crime in fileValues:"
   ]
  }
 ],
 "metadata": {
  "kernelspec": {
   "display_name": "Python 2",
   "language": "python",
   "name": "python2"
  },
  "language_info": {
   "codemirror_mode": {
    "name": "ipython",
    "version": 2
   },
   "file_extension": ".py",
   "mimetype": "text/x-python",
   "name": "python",
   "nbconvert_exporter": "python",
   "pygments_lexer": "ipython2",
   "version": "2.7.10"
  }
 },
 "nbformat": 4,
 "nbformat_minor": 0
}
